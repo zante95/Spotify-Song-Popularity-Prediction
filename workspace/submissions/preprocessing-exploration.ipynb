{
 "cells": [
  {
   "cell_type": "markdown",
   "metadata": {},
   "source": [
    "## Overview"
   ]
  },
  {
   "cell_type": "markdown",
   "metadata": {},
   "source": [
    "For our project we decided to build a classifier to tell whenever a song (based on its audio features) is gonna be popular or not. For that purpose, have a main dataset of Spotify tracks from 1921 to 2020 from which we will use a subset of the last 10 years for this project; additionally, we have datasets for top tracks of the last 10 years, which we can use for aiding in the training and prediction of our model. The datasets we are gonna be using are:"
   ]
  },
  {
   "cell_type": "markdown",
   "metadata": {},
   "source": [
    "- Tracks - https://www.kaggle.com/yamaerenay/spotify-dataset-19212020-160k-tracks\n",
    "- Top 2010 to 2019 - https://www.kaggle.com/leonardopena/top-spotify-songs-from-20102019-by-year\n",
    "- Top 2017 - https://www.kaggle.com/nadintamer/top-tracks-of-2017\n",
    "- Top 2018 - https://www.kaggle.com/nadintamer/top-spotify-tracks-of-2018\n",
    "- Top 2019 - https://www.kaggle.com/leonardopena/top50spotify2019"
   ]
  },
  {
   "cell_type": "markdown",
   "metadata": {},
   "source": [
    "Each of the datases, while being from Spotify, is bit different from one another (column names, scale, etc). Therefore, the preprocessing phase of our project focuses on making these datasets compatible with one another."
   ]
  },
  {
   "cell_type": "markdown",
   "metadata": {},
   "source": [
    "### Preprocessing\n",
    "\n",
    "The general process we will follow for our **secondary** datasets (top charts) is:\n",
    "\n",
    "1. Normalize the column names of each dataset so they have the same columns.\n",
    "\n",
    "2. Keep only common columns.\n",
    "\n",
    "3. Mark each dataset by year.\n",
    "\n",
    "4. Merge them into a single dataframe.\n",
    "\n",
    "We can then use our \"top charts\" dataframe for creating new features in our main dataset,\n",
    "indicating if a given track ever made it to the top charts for a given year."
   ]
  },
  {
   "cell_type": "markdown",
   "metadata": {},
   "source": [
    "### Exploration\n",
    "\n",
    "Start by exploring our **main** dataset and our **top charts** dataset (result from preprocessing step)."
   ]
  },
  {
   "cell_type": "markdown",
   "metadata": {},
   "source": [
    "## Reading datasets"
   ]
  },
  {
   "cell_type": "code",
   "execution_count": 1,
   "metadata": {},
   "outputs": [],
   "source": [
    "import pandas as pd\n",
    "import numpy as np\n",
    "import os"
   ]
  },
  {
   "cell_type": "code",
   "execution_count": 2,
   "metadata": {},
   "outputs": [],
   "source": [
    "def read_dataset(name):\n",
    "    url = os.path.join(os.getcwd(), '..', 'resources', name)\n",
    "    return pd.read_csv(url)\n"
   ]
  },
  {
   "cell_type": "code",
   "execution_count": 3,
   "metadata": {},
   "outputs": [],
   "source": [
    "datasets = [\n",
    "    read_dataset('tracks-1921-2020.csv'),\n",
    "    read_dataset('top-tracks-2010-to-2019.csv'),\n",
    "    read_dataset('top-tracks-2017.csv'),\n",
    "    read_dataset('top-tracks-2018.csv'),\n",
    "    read_dataset('top-tracks-2019.csv'),\n",
    "]\n",
    "\n",
    "# indices constants for easier access later one\n",
    "TRACKS_1921_2020 = 0\n",
    "TOP_2010_2019_IDX = 1\n",
    "TOP_2017_IDX = 2\n",
    "TOP_2018_IDX = 3\n",
    "TOP_2019_IDX = 4"
   ]
  },
  {
   "cell_type": "markdown",
   "metadata": {},
   "source": [
    "## Preprocessing"
   ]
  },
  {
   "cell_type": "markdown",
   "metadata": {},
   "source": [
    "### Normalizing columns"
   ]
  },
  {
   "cell_type": "markdown",
   "metadata": {},
   "source": [
    "Some of the datasets have different column names to represent the same kind of metadata (name vs. title) or audio features (loudness vs. decibels). To address that, we are gonna normalize the columns so all the datasets have the same column names."
   ]
  },
  {
   "cell_type": "markdown",
   "metadata": {},
   "source": [
    "#### Column normalizer class"
   ]
  },
  {
   "cell_type": "markdown",
   "metadata": {},
   "source": [
    "Let's get started by writing a column normalizer class that we can use later. The class focuses on mapping column names to a \"desired\" column set given as parameter, the class decides what column name corresponds to what input based on similarity tests."
   ]
  },
  {
   "cell_type": "code",
   "execution_count": 4,
   "metadata": {},
   "outputs": [
    {
     "name": "stderr",
     "output_type": "stream",
     "text": [
      "/opt/conda/lib/python3.8/site-packages/fuzzywuzzy/fuzz.py:11: UserWarning: Using slow pure-python SequenceMatcher. Install python-Levenshtein to remove this warning\n",
      "  warnings.warn('Using slow pure-python SequenceMatcher. Install python-Levenshtein to remove this warning')\n"
     ]
    }
   ],
   "source": [
    "from collections import namedtuple\n",
    "from fuzzywuzzy import fuzz\n",
    "\n",
    "\n",
    "Change = namedtuple('Change', ['before', 'after'])\n",
    "\n",
    "\n",
    "class ColumnNormalizer:\n",
    "    \n",
    "    def __init__(self):\n",
    "        pass\n",
    "        \n",
    "    def _compute_best_match(self, columns, oldname):\n",
    "    \n",
    "        best_match = None\n",
    "        best_match_ratio = 0\n",
    "        \n",
    "        for colname in columns:\n",
    "            ratio = fuzz.ratio(colname.lower(), oldname.lower())\n",
    "            if ratio >= 60 and ratio > best_match_ratio:\n",
    "                best_match = colname\n",
    "                best_match_ratio = ratio\n",
    "                \n",
    "        return best_match\n",
    "    \n",
    "    def normalize(self, desired, desired_map, df):\n",
    "        \"\"\"\n",
    "        Normalizes the column names of the given dataframe by looking at the `desired`\n",
    "        set and the `desired_map` for supervised normalization. The `desired_map` \n",
    "        should contain a mapping from old names to desired names.\n",
    "        \"\"\"\n",
    "        \n",
    "        desired = desired or set()\n",
    "        desired_map = desired_map or dict()\n",
    "        \n",
    "        guide = {name: name for name in desired}\n",
    "        guide.update(desired_map)\n",
    "        guide_keys = guide.keys()\n",
    "        \n",
    "        column_names = list(df.columns)\n",
    "        changed = list()\n",
    "        not_changed = list()\n",
    "        \n",
    "        for idx, colname in enumerate(column_names):\n",
    "            \n",
    "            best_key = self._compute_best_match(guide_keys, colname)\n",
    "\n",
    "            if best_key is not None:\n",
    "                column_names[idx] = guide[best_key]\n",
    "                changed.append(Change(colname, guide[best_key]))\n",
    "                \n",
    "            else:\n",
    "                not_changed.append(Change(colname, None))\n",
    "                \n",
    "        df.columns = column_names\n",
    "        return df, changed, not_changed\n"
   ]
  },
  {
   "cell_type": "markdown",
   "metadata": {},
   "source": [
    "#### Finding desired columns"
   ]
  },
  {
   "cell_type": "markdown",
   "metadata": {},
   "source": [
    "Since most if not all of the datasets come from Spotify, we can look at their [API reference](https://developer.spotify.com/documentation/web-api/reference/tracks/get-several-audio-features/) to figure out which columns to expect. Easily enough, these are the most important columns we should try to get:"
   ]
  },
  {
   "cell_type": "code",
   "execution_count": 5,
   "metadata": {},
   "outputs": [],
   "source": [
    "desired_columns = [\n",
    "    \n",
    "    # metadata\n",
    "    'id',\n",
    "    'artist',\n",
    "    'title',\n",
    "    'duration_ms',\n",
    "    'genre',\n",
    "    'popularity',\n",
    "    'year',\n",
    "\n",
    "    # audio features\n",
    "    'acousticness',\n",
    "    'danceability',\n",
    "    'energy',\n",
    "    'explicit',\n",
    "    'instrumentalness',\n",
    "    'key',\n",
    "    'liveness',\n",
    "    'loudness',\n",
    "    'mode',\n",
    "    'speechiness',\n",
    "    'tempo',\n",
    "    'time_signature',\n",
    "    'valence',\n",
    "    \n",
    "]"
   ]
  },
  {
   "cell_type": "markdown",
   "metadata": {},
   "source": [
    "Since some of the datasets have badly naming columns, we have to provide a a desired map to the `ColumnNormalizer` for supervised column renaming. Said map is given by:"
   ]
  },
  {
   "cell_type": "code",
   "execution_count": 6,
   "metadata": {},
   "outputs": [],
   "source": [
    "desired_columns_map = {\n",
    "    \n",
    "    'unamed': 'id',\n",
    "    'bpm': 'tempo',\n",
    "    'dnce': 'danceability',\n",
    "    'db': 'loudness',\n",
    "    'acous': 'acousticness',\n",
    "    'spch': 'speechness',\n",
    "    'pop': 'popularity',\n",
    "    'Track.name': 'title',\n",
    "    'beats.per.minute': 'tempo',\n",
    "    'length': 'duration_ms',\n",
    "    'dur': 'duration_ms',\n",
    "    'name': 'title',\n",
    "    'release_date': 'release_date',\n",
    "    \n",
    "}"
   ]
  },
  {
   "cell_type": "markdown",
   "metadata": {},
   "source": [
    "#### Applying column normalization"
   ]
  },
  {
   "cell_type": "markdown",
   "metadata": {},
   "source": [
    "Finally, we apply the `ColumnNormalizer` on each dataset to normalize the column names:"
   ]
  },
  {
   "cell_type": "code",
   "execution_count": 7,
   "metadata": {},
   "outputs": [],
   "source": [
    "cnorm =  ColumnNormalizer()\n",
    "\n",
    "changeset = set()\n",
    "unchangeset = set()\n",
    "\n",
    "for idx, dataset in enumerate(datasets):\n",
    "    normalized, changed, not_changed = cnorm.normalize(desired_columns, desired_columns_map, dataset)\n",
    "    changeset.update(changed)\n",
    "    unchangeset.update(not_changed)\n",
    "    datasets[idx] = normalized"
   ]
  },
  {
   "cell_type": "markdown",
   "metadata": {},
   "source": [
    "To make sure no columns where left unchanged, we can simply check the `unchangeset` and make sure is empty:"
   ]
  },
  {
   "cell_type": "code",
   "execution_count": 8,
   "metadata": {},
   "outputs": [],
   "source": [
    "assert len(unchangeset) == 0"
   ]
  },
  {
   "cell_type": "markdown",
   "metadata": {},
   "source": [
    "### Marking by year"
   ]
  },
  {
   "cell_type": "markdown",
   "metadata": {},
   "source": [
    "Since our `TOP_2010_2019_IDX` dataset is already marked by year, we only have to mark the remaining top charts datasets:"
   ]
  },
  {
   "cell_type": "code",
   "execution_count": 9,
   "metadata": {},
   "outputs": [],
   "source": [
    "datasets[TOP_2017_IDX] = datasets[TOP_2017_IDX].assign(year=2017)\n",
    "datasets[TOP_2018_IDX] = datasets[TOP_2018_IDX].assign(year=2018)\n",
    "datasets[TOP_2019_IDX] = datasets[TOP_2019_IDX].assign(year=2019)"
   ]
  },
  {
   "cell_type": "markdown",
   "metadata": {},
   "source": [
    "### Keeping common columns"
   ]
  },
  {
   "cell_type": "markdown",
   "metadata": {},
   "source": [
    "Now that all the column names are normalized we can simply drop the columns that are not common in all our **secondary** datasets."
   ]
  },
  {
   "cell_type": "code",
   "execution_count": 10,
   "metadata": {},
   "outputs": [],
   "source": [
    "# grab only the secondary datasets with their index\n",
    "secondary = list(enumerate(datasets))[1:]\n",
    "\n",
    "all_columns = set()\n",
    "for _, dataset in secondary:\n",
    "    all_columns.update(dataset.columns)\n",
    "\n",
    "common = set(all_columns)\n",
    "for _, dataset in secondary:\n",
    "    common.intersection_update(dataset.columns)"
   ]
  },
  {
   "cell_type": "markdown",
   "metadata": {},
   "source": [
    "Then, we just have to update each **secondary** dataset and keep only the common column between them:"
   ]
  },
  {
   "cell_type": "code",
   "execution_count": 11,
   "metadata": {},
   "outputs": [],
   "source": [
    "common_columns = sorted(list(common))\n",
    "\n",
    "for idx, dataset in secondary:\n",
    "    datasets[idx] = dataset[common_columns]"
   ]
  },
  {
   "cell_type": "markdown",
   "metadata": {},
   "source": [
    "### Merging top charts"
   ]
  },
  {
   "cell_type": "markdown",
   "metadata": {},
   "source": [
    "Now that all our top charts columns are normalized, they can be merged together. Note that we are only interested in `artist`, `title` and `year` (for determining if a song was in the top charts):"
   ]
  },
  {
   "cell_type": "code",
   "execution_count": 12,
   "metadata": {},
   "outputs": [
    {
     "data": {
      "text/html": [
       "<div>\n",
       "<style scoped>\n",
       "    .dataframe tbody tr th:only-of-type {\n",
       "        vertical-align: middle;\n",
       "    }\n",
       "\n",
       "    .dataframe tbody tr th {\n",
       "        vertical-align: top;\n",
       "    }\n",
       "\n",
       "    .dataframe thead th {\n",
       "        text-align: right;\n",
       "    }\n",
       "</style>\n",
       "<table border=\"1\" class=\"dataframe\">\n",
       "  <thead>\n",
       "    <tr style=\"text-align: right;\">\n",
       "      <th></th>\n",
       "      <th>artist</th>\n",
       "      <th>title</th>\n",
       "      <th>year</th>\n",
       "    </tr>\n",
       "  </thead>\n",
       "  <tbody>\n",
       "    <tr>\n",
       "      <th>0</th>\n",
       "      <td>Train</td>\n",
       "      <td>Hey, Soul Sister</td>\n",
       "      <td>2010</td>\n",
       "    </tr>\n",
       "    <tr>\n",
       "      <th>1</th>\n",
       "      <td>Eminem</td>\n",
       "      <td>Love The Way You Lie</td>\n",
       "      <td>2010</td>\n",
       "    </tr>\n",
       "    <tr>\n",
       "      <th>2</th>\n",
       "      <td>Kesha</td>\n",
       "      <td>TiK ToK</td>\n",
       "      <td>2010</td>\n",
       "    </tr>\n",
       "    <tr>\n",
       "      <th>3</th>\n",
       "      <td>Lady Gaga</td>\n",
       "      <td>Bad Romance</td>\n",
       "      <td>2010</td>\n",
       "    </tr>\n",
       "    <tr>\n",
       "      <th>4</th>\n",
       "      <td>Bruno Mars</td>\n",
       "      <td>Just the Way You Are</td>\n",
       "      <td>2010</td>\n",
       "    </tr>\n",
       "    <tr>\n",
       "      <th>...</th>\n",
       "      <td>...</td>\n",
       "      <td>...</td>\n",
       "      <td>...</td>\n",
       "    </tr>\n",
       "    <tr>\n",
       "      <th>45</th>\n",
       "      <td>Marshmello</td>\n",
       "      <td>One Thing Right</td>\n",
       "      <td>2019</td>\n",
       "    </tr>\n",
       "    <tr>\n",
       "      <th>46</th>\n",
       "      <td>Nicky Jam</td>\n",
       "      <td>Te Robaré</td>\n",
       "      <td>2019</td>\n",
       "    </tr>\n",
       "    <tr>\n",
       "      <th>47</th>\n",
       "      <td>Marshmello</td>\n",
       "      <td>Happier</td>\n",
       "      <td>2019</td>\n",
       "    </tr>\n",
       "    <tr>\n",
       "      <th>48</th>\n",
       "      <td>The Chainsmokers</td>\n",
       "      <td>Call You Mine</td>\n",
       "      <td>2019</td>\n",
       "    </tr>\n",
       "    <tr>\n",
       "      <th>49</th>\n",
       "      <td>Ed Sheeran</td>\n",
       "      <td>Cross Me (feat. Chance the Rapper &amp; PnB Rock)</td>\n",
       "      <td>2019</td>\n",
       "    </tr>\n",
       "  </tbody>\n",
       "</table>\n",
       "<p>853 rows × 3 columns</p>\n",
       "</div>"
      ],
      "text/plain": [
       "              artist                                          title  year\n",
       "0              Train                               Hey, Soul Sister  2010\n",
       "1             Eminem                           Love The Way You Lie  2010\n",
       "2              Kesha                                        TiK ToK  2010\n",
       "3          Lady Gaga                                    Bad Romance  2010\n",
       "4         Bruno Mars                           Just the Way You Are  2010\n",
       "..               ...                                            ...   ...\n",
       "45        Marshmello                                One Thing Right  2019\n",
       "46         Nicky Jam                                      Te Robaré  2019\n",
       "47        Marshmello                                        Happier  2019\n",
       "48  The Chainsmokers                                  Call You Mine  2019\n",
       "49        Ed Sheeran  Cross Me (feat. Chance the Rapper & PnB Rock)  2019\n",
       "\n",
       "[853 rows x 3 columns]"
      ]
     },
     "execution_count": 12,
     "metadata": {},
     "output_type": "execute_result"
    }
   ],
   "source": [
    "top_charts = pd.concat(datasets[1:])[['artist', 'title', 'year']]\n",
    "top_charts"
   ]
  },
  {
   "cell_type": "markdown",
   "metadata": {},
   "source": [
    "### Top charts feature on main dataset"
   ]
  },
  {
   "cell_type": "markdown",
   "metadata": {},
   "source": [
    "Based on the merged top charts, we are now going to add new binary feature to our main dataset that indicates if a song was in the top charts. In order to do so, we use our `top_charts` dataset as a lookup table, any row in the main dataset that is found in the top charts will marked with a `Y`, any other row will be marked with `N`. First let us prepare the `top_charts` so we can use it as a lookup table more efficiently:"
   ]
  },
  {
   "cell_type": "code",
   "execution_count": 13,
   "metadata": {},
   "outputs": [],
   "source": [
    "import re\n",
    "\n",
    "# removes any non-letter character from the given string\n",
    "def normalize_string(s):\n",
    "    return re.sub(r'\\W+', '', s.lower())\n",
    "\n",
    "# compares the given strings and returns similarity ratio\n",
    "def string_ratio(a, b):\n",
    "    return SequenceMatcher(None, a, b).ratio()\n"
   ]
  },
  {
   "cell_type": "code",
   "execution_count": 14,
   "metadata": {},
   "outputs": [
    {
     "data": {
      "text/html": [
       "<div>\n",
       "<style scoped>\n",
       "    .dataframe tbody tr th:only-of-type {\n",
       "        vertical-align: middle;\n",
       "    }\n",
       "\n",
       "    .dataframe tbody tr th {\n",
       "        vertical-align: top;\n",
       "    }\n",
       "\n",
       "    .dataframe thead th {\n",
       "        text-align: right;\n",
       "    }\n",
       "</style>\n",
       "<table border=\"1\" class=\"dataframe\">\n",
       "  <thead>\n",
       "    <tr style=\"text-align: right;\">\n",
       "      <th></th>\n",
       "      <th>artist</th>\n",
       "      <th>title</th>\n",
       "      <th>year</th>\n",
       "    </tr>\n",
       "  </thead>\n",
       "  <tbody>\n",
       "    <tr>\n",
       "      <th>0</th>\n",
       "      <td>train</td>\n",
       "      <td>heysoulsister</td>\n",
       "      <td>2010</td>\n",
       "    </tr>\n",
       "    <tr>\n",
       "      <th>1</th>\n",
       "      <td>eminem</td>\n",
       "      <td>lovethewayyoulie</td>\n",
       "      <td>2010</td>\n",
       "    </tr>\n",
       "    <tr>\n",
       "      <th>2</th>\n",
       "      <td>kesha</td>\n",
       "      <td>tiktok</td>\n",
       "      <td>2010</td>\n",
       "    </tr>\n",
       "    <tr>\n",
       "      <th>3</th>\n",
       "      <td>ladygaga</td>\n",
       "      <td>badromance</td>\n",
       "      <td>2010</td>\n",
       "    </tr>\n",
       "    <tr>\n",
       "      <th>4</th>\n",
       "      <td>brunomars</td>\n",
       "      <td>justthewayyouare</td>\n",
       "      <td>2010</td>\n",
       "    </tr>\n",
       "    <tr>\n",
       "      <th>...</th>\n",
       "      <td>...</td>\n",
       "      <td>...</td>\n",
       "      <td>...</td>\n",
       "    </tr>\n",
       "    <tr>\n",
       "      <th>42</th>\n",
       "      <td>ladygaga</td>\n",
       "      <td>shallow</td>\n",
       "      <td>2019</td>\n",
       "    </tr>\n",
       "    <tr>\n",
       "      <th>43</th>\n",
       "      <td>khalid</td>\n",
       "      <td>talk</td>\n",
       "      <td>2019</td>\n",
       "    </tr>\n",
       "    <tr>\n",
       "      <th>44</th>\n",
       "      <td>rosalía</td>\n",
       "      <td>conaltura</td>\n",
       "      <td>2019</td>\n",
       "    </tr>\n",
       "    <tr>\n",
       "      <th>45</th>\n",
       "      <td>marshmello</td>\n",
       "      <td>onethingright</td>\n",
       "      <td>2019</td>\n",
       "    </tr>\n",
       "    <tr>\n",
       "      <th>46</th>\n",
       "      <td>nickyjam</td>\n",
       "      <td>terobaré</td>\n",
       "      <td>2019</td>\n",
       "    </tr>\n",
       "  </tbody>\n",
       "</table>\n",
       "<p>806 rows × 3 columns</p>\n",
       "</div>"
      ],
      "text/plain": [
       "        artist             title  year\n",
       "0        train     heysoulsister  2010\n",
       "1       eminem  lovethewayyoulie  2010\n",
       "2        kesha            tiktok  2010\n",
       "3     ladygaga        badromance  2010\n",
       "4    brunomars  justthewayyouare  2010\n",
       "..         ...               ...   ...\n",
       "42    ladygaga           shallow  2019\n",
       "43      khalid              talk  2019\n",
       "44     rosalía         conaltura  2019\n",
       "45  marshmello     onethingright  2019\n",
       "46    nickyjam          terobaré  2019\n",
       "\n",
       "[806 rows x 3 columns]"
      ]
     },
     "execution_count": 14,
     "metadata": {},
     "output_type": "execute_result"
    }
   ],
   "source": [
    "top_charts['artist'] = top_charts['artist'].map(normalize_string)\n",
    "top_charts['title'] = top_charts['title'].map(normalize_string)\n",
    "top_charts = top_charts.drop_duplicates()\n",
    "top_charts"
   ]
  },
  {
   "cell_type": "markdown",
   "metadata": {},
   "source": [
    "#### Generating `topcharts` feature"
   ]
  },
  {
   "cell_type": "code",
   "execution_count": null,
   "metadata": {},
   "outputs": [],
   "source": [
    "import re\n",
    "from fuzzywuzzy import fuzz\n",
    "\n",
    "\n",
    "def find_track(artist, title, lookup, artist_threshold=0.5, title_threshold=0.75):\n",
    "    \"\"\"\n",
    "    Determines if the given track (artist, title) is in the given lookup table.\n",
    "    Uses similarity comparison on both fields, so it may be slow for large datasets.\n",
    "    \"\"\"\n",
    "    r = lookup.copy()\n",
    "    r['artist'] = r['artist'].map(lambda x: fuzz.ratio(artist, x))\n",
    "    r['title'] = r['title'].map(lambda x: fuzz.ratio(title, x))\n",
    "    return not r[(r['artist'] >= artist_threshold * 100) & (r['title'] >= title_threshold * 100)].empty\n",
    "\n",
    "\n",
    "# grab last 10 years from our main dataset\n",
    "last_10_years = datasets[0][datasets[0]['year'] >= 2010]\n",
    "last_10_years = last_10_years.assign(topcharts='N')\n",
    "last_10_years = last_10_years.reset_index(drop=True)\n",
    "\n",
    "\n",
    "total_rows = len(last_10_years.index)\n",
    "\n",
    "\n",
    "for idx, row in enumerate(last_10_years.itertuples()):\n",
    "    \n",
    "    artist = normalize_string(row.artist)\n",
    "    title = normalize_string(row.title)\n",
    "    \n",
    "    if find_track(artist, title, top_charts):\n",
    "        last_10_years.at[idx, 'topcharts'] = 'Y'\n",
    "        \n",
    "    if idx % 1000 == 0:\n",
    "        print(f\"Completed {idx / total_rows * 100}%\")\n",
    "        "
   ]
  },
  {
   "cell_type": "code",
   "execution_count": null,
   "metadata": {},
   "outputs": [],
   "source": [
    "last_10_years[last_10_years['topcharts'] == 'Y']\n",
    "\n",
    "last_10_years.to_csv('tracks-2010-2019.csv')\n",
    "last_10_years"
   ]
  },
  {
   "cell_type": "markdown",
   "metadata": {},
   "source": [
    "## Exploration"
   ]
  },
  {
   "cell_type": "markdown",
   "metadata": {},
   "source": [
    "1. Feature reduction (checking correlation, scatter plots, correlation plots).\n",
    "\n",
    "2. Check the popularity stats on topcharts partitions (`Y` vs. `N`).\n",
    "\n",
    "3. Based on the exploration decide the approach to define final class label that we are gonna use for prediction."
   ]
  },
  {
   "cell_type": "markdown",
   "metadata": {},
   "source": [
    "#### Checking correlation matrix\n",
    "Note that we excluded attributes that have a string data type from the selection to see the correlation score for each combination of attributes"
   ]
  },
  {
   "cell_type": "code",
   "execution_count": 18,
   "metadata": {},
   "outputs": [
    {
     "data": {
      "text/plain": [
       "<matplotlib.axes._subplots.AxesSubplot at 0x7f1c59c03a30>"
      ]
     },
     "execution_count": 18,
     "metadata": {},
     "output_type": "execute_result"
    },
    {
     "data": {
      "image/png": "[encoded data removed]",
      "text/plain": [
       "<Figure size 432x288 with 2 Axes>"
      ]
     },
     "metadata": {
      "needs_background": "light"
     },
     "output_type": "display_data"
    }
   ],
   "source": [
    "import seaborn as sb\n",
    "\n",
    "columns = ['acousticness','danceability',\n",
    "       'duration_ms', 'energy', 'explicit', 'instrumentalness',\n",
    "       'liveness', 'loudness', 'mode', 'popularity',\n",
    "       'release_date', 'speechiness', 'tempo', 'valence', 'year',\n",
    "       'topcharts']\n",
    "\n",
    "sb.heatmap(last_10_years[columns].corr())"
   ]
  },
  {
   "cell_type": "markdown",
   "metadata": {},
   "source": [
    "#### Checking scatterplot"
   ]
  }
 ],
 "metadata": {
  "kernelspec": {
   "display_name": "Python 3",
   "language": "python",
   "name": "python3"
  },
  "language_info": {
   "codemirror_mode": {
    "name": "ipython",
    "version": 3
   },
   "file_extension": ".py",
   "mimetype": "text/x-python",
   "name": "python",
   "nbconvert_exporter": "python",
   "pygments_lexer": "ipython3",
   "version": "3.8.5"
  }
 },
 "nbformat": 4,
 "nbformat_minor": 4
}
